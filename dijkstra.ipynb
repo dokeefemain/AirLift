{
 "cells": [
  {
   "cell_type": "code",
   "execution_count": 1,
   "metadata": {
    "collapsed": true
   },
   "outputs": [],
   "source": [
    "import scipy\n",
    "import numpy as np\n",
    "from airlift.envs import AirliftEnv, AirliftWorldGenerator, ActionHelper, generators\n",
    "from airlift.envs import StaticCargoGenerator, DynamicCargoGenerator\n",
    "import airlift\n",
    "import networkx as nx\n",
    "import matplotlib.pyplot as plt"
   ]
  },
  {
   "cell_type": "code",
   "execution_count": 2,
   "outputs": [],
   "source": [
    "class Dijkstra:\n",
    "    def __init__(self, cargo_generator, airport_generator):\n",
    "        self.env = AirliftEnv(AirliftWorldGenerator(cargo_generator=cargo_generator,airport_generator=airport_generator))\n",
    "        self.obs = self.env.reset()\n",
    "        self.planes = self.obs.keys()\n",
    "        self.rewards = []\n",
    "\n",
    "    def reset(self):\n",
    "        self.obs = self.env.reset()\n",
    "        self.planes = self.obs.keys()\n",
    "        self.rewards = []\n",
    "\n",
    "    def print_obs(self):\n",
    "        return self.obs\n",
    "\n",
    "    def get_rewards(self):\n",
    "        return self.rewards\n",
    "\n",
    "    def optimal_route(self, plane):\n",
    "        cargo = self.obs[plane]['globalstate'][\"active_cargo\"]\n",
    "        g = self.obs[plane][\"globalstate\"][\"route_map\"][0]\n",
    "        curr_location = self.obs[plane][\"current_airport\"]\n",
    "\n",
    "        min_cost = 1000\n",
    "        path_cargo = []\n",
    "        path_deliver = []\n",
    "        cargo_id = -1\n",
    "        for i in cargo:\n",
    "            length1, path1 = nx.single_source_dijkstra(g, curr_location, target=i.location, weight=\"time\")\n",
    "            length2, path2 = nx.single_source_dijkstra(g, i.location, target=i.destination, weight=\"time\")\n",
    "            total = length1 + length2\n",
    "            if total <= i.hard_deadline:\n",
    "                path = path1 + path2[1:]\n",
    "                print(path)\n",
    "                cost = 0\n",
    "                for j in range(len(path) - 1):\n",
    "                    cost += g[path[j]][path[j+1]][\"cost\"]\n",
    "                if cost <= min_cost:\n",
    "                    min_cost = cost\n",
    "                    path_cargo = path1\n",
    "                    path_deliver = path2\n",
    "                    cargo_id = i.id\n",
    "        return cargo_id, path_cargo, path_deliver\n",
    "\n",
    "    def heur_test(self, plane):\n",
    "        tmp = self.obs[plane]['globalstate'][\"active_cargo\"]\n",
    "        avaliable_cargo = {}\n",
    "        for i in tmp:\n",
    "            avaliable_cargo[i.id] = i\n",
    "        g = self.obs[plane][\"globalstate\"][\"route_map\"][0]\n",
    "        curr_location = self.obs[plane][\"current_airport\"]\n",
    "\n",
    "        c1, path, time = self.get_closest(curr_location, avaliable_cargo, g)\n",
    "        cargo = {}\n",
    "        cargo[c1] = avaliable_cargo[c1]\n",
    "        del avaliable_cargo[c1]\n",
    "\n",
    "        while len(cargo) <= self.obs[plane][weight]\n",
    "\n",
    "        time = min_l\n",
    "        path = path_c1\n",
    "        cargo = {}\n",
    "        cargo[c1] = avaliable_cargo[c1]\n",
    "        del avaliable_cargo[c1]\n",
    "\n",
    "        curr_location = path[-1]\n",
    "\n",
    "        min_l = 1000\n",
    "        c2 = -1\n",
    "        path_c2 = []\n",
    "        for i in avaliable_cargo.keys():\n",
    "            length, p = nx.single_source_dijkstra(g, curr_location, target=avaliable_cargo[i].location, weight=\"time\")\n",
    "\n",
    "            if length == min_l:\n",
    "                if avaliable_cargo[i].soft_deadline < avaliable_cargo[c2].soft_deadline:\n",
    "                    c2 = i\n",
    "                    path_c2 = path\n",
    "            elif length < min_l:\n",
    "                c2 = i\n",
    "                path_c2 = path\n",
    "                min_l = length\n",
    "\n",
    "    def get_closest(self, curr_location, avaliable_cargo, g):\n",
    "        min_l = 1000\n",
    "        c = -1\n",
    "        path_c = []\n",
    "        for i in avaliable_cargo.keys():\n",
    "            length, path = nx.single_source_dijkstra(g, curr_location, target=avaliable_cargo[i].location, weight=\"time\")\n",
    "\n",
    "            if length == min_l:\n",
    "                if avaliable_cargo[i].soft_deadline < avaliable_cargo[c].soft_deadline:\n",
    "                    c = i\n",
    "                    path_c = path\n",
    "            elif length < min_l:\n",
    "                c = i\n",
    "                path_c = path\n",
    "                min_l = length\n",
    "        return c, path_c, min_l\n",
    "\n",
    "\n",
    "\n",
    "    def route_test(self, plane):\n",
    "        tmp = self.obs[plane]['globalstate'][\"active_cargo\"]\n",
    "        cargo = {}\n",
    "        for i in tmp:\n",
    "            cargo[i.id] = i\n",
    "        g = self.obs[plane][\"globalstate\"][\"route_map\"][0]\n",
    "        curr_location = self.obs[plane][\"current_airport\"]\n",
    "\n",
    "        min_l = 1000\n",
    "        c1 = -1\n",
    "        path_c1 = []\n",
    "        for i in cargo.keys():\n",
    "            length, path = nx.single_source_dijkstra(g, curr_location, target=cargo[i].location, weight=\"time\")\n",
    "\n",
    "            if length == min_l:\n",
    "                if cargo[i].soft_deadline < cargo[c1].soft_deadline:\n",
    "                    c1 = i\n",
    "                    path_c1 = path\n",
    "            elif length < min_l:\n",
    "                c1 = i\n",
    "                path_c1 = path\n",
    "                min_l = length\n",
    "\n",
    "        curr_location = path_c1[-1]\n",
    "        min_l2 = 1000\n",
    "        c2 = -1\n",
    "        path_c2 = []\n",
    "        for i in cargo.keys():\n",
    "            if i != c1:\n",
    "                length, path = nx.single_source_dijkstra(g, curr_location, target=cargo[i].location, weight=\"time\")\n",
    "\n",
    "                if length == min_l2:\n",
    "                    if cargo[i].soft_deadline < cargo[c1].soft_deadline:\n",
    "                        c2 = i\n",
    "                        path_c2 = path\n",
    "                elif length < min_l2:\n",
    "                    c2 = i\n",
    "                    path_c2 = path\n",
    "                    min_l2 = length\n",
    "\n",
    "        len_total = min_l + min_l2\n",
    "\n",
    "\n",
    "\n",
    "\n",
    "\n",
    "\n",
    "    def init_step(self):\n",
    "        self.flight_plan = {}\n",
    "        for plane in self.planes:\n",
    "            cargo_id, path_cargo, path_deliver = self.optimal_route(plane)\n",
    "            self.flight_plan[plane] = {\"cargo_id\": cargo_id, \"path_cargo\": path_cargo[1:], \"path_deliver\": path_deliver[1:]}\n",
    "        print(self.flight_plan)\n",
    "\n",
    "    def step(self):\n",
    "        actions = {}\n",
    "        for i in self.flight_plan.keys():\n",
    "            o = self.obs[i]\n",
    "            actions[i] = {}\n",
    "            if self.flight_plan[i][\"path_cargo\"]:\n",
    "                # We have just landed at the airport with the cargo we need to pick up\n",
    "                if o[\"current_airport\"] == self.flight_plan[i][\"path_cargo\"][-1]:\n",
    "                    actions[i][\"process\"] = 1\n",
    "                    actions[i][\"cargo_to_load\"] = [self.flight_plan[i][\"cargo_id\"]]\n",
    "                    actions[i][\"destination\"] = o[\"current_airport\"]\n",
    "                    actions[i][\"cargo_to_unload\"] = []\n",
    "                    self.flight_plan[i][\"path_cargo\"] = self.flight_plan[i][\"path_cargo\"][1:]\n",
    "\n",
    "                else:\n",
    "                    actions[i][\"process\"] = 0\n",
    "                    actions[i][\"cargo_to_load\"] = []\n",
    "                    actions[i][\"destination\"] = self.flight_plan[i][\"path_cargo\"][0]\n",
    "                    actions[i][\"cargo_to_unload\"] = []\n",
    "\n",
    "            else:\n",
    "                if o[\"current_airport\"] == self.flight_plan[i][\"path_deliver\"][-1]:\n",
    "                    actions[i][\"process\"] = 1\n",
    "                    actions[i][\"cargo_to_load\"] = []\n",
    "                    actions[i][\"destination\"] = o[\"current_airport\"]\n",
    "                    actions[i][\"cargo_to_unload\"] = [self.flight_plan[i][\"cargo_id\"]]\n",
    "                    self.flight_plan[i][\"path_deliver\"] = self.flight_plan[i][\"path_deliver\"][1:]\n",
    "\n",
    "                else:\n",
    "                    actions[i][\"process\"] = 0\n",
    "                    actions[i][\"cargo_to_load\"] = []\n",
    "                    actions[i][\"destination\"] = self.flight_plan[i][\"path_deliver\"][0]\n",
    "                    actions[i][\"cargo_to_unload\"] = []\n",
    "\n",
    "        self.obs, rewards, dones, infos = self.env.step(actions)\n",
    "        self.rewards.append(rewards)\n"
   ],
   "metadata": {
    "collapsed": false,
    "pycharm": {
     "name": "#%%\n"
    }
   }
  },
  {
   "cell_type": "code",
   "execution_count": 3,
   "outputs": [],
   "source": [
    "cargo_generator=generators.cargo_generators.StaticCargoGenerator(3)\n",
    "airport_generator=generators.airport_generators.RandomAirportGenerator(10, num_pick_up_airports=5, num_drop_off_airports=4)\n",
    "dij = Dijkstra(cargo_generator, airport_generator)"
   ],
   "metadata": {
    "collapsed": false,
    "pycharm": {
     "name": "#%%\n"
    }
   }
  },
  {
   "cell_type": "code",
   "execution_count": 4,
   "outputs": [
    {
     "data": {
      "text/plain": "{'a_0': {'cargo_onboard': [],\n  'state': <PlaneState.READY_FOR_TAKEOFF: 3>,\n  'plane_type': 0,\n  'current_weight': 0,\n  'max_weight': 5,\n  'available_routes': [1, 3, 4, 5, 6, 7, 8, 9, 10],\n  'next_action': {'process': 0,\n   'cargo_to_load': [],\n   'cargo_to_unload': [],\n   'destination': 0},\n  'current_airport': 2,\n  'cargo_at_current_airport': [],\n  'destination': 0,\n  'globalstate': {'route_map': {0: <networkx.classes.digraph.DiGraph at 0x2852507baf0>},\n   'plane_types': [PlaneTypeObservation(id=0, max_weight=5)],\n   'agents': {'a_0': {'cargo_onboard': [],\n     'state': <PlaneState.READY_FOR_TAKEOFF: 3>,\n     'plane_type': 0,\n     'current_weight': 0,\n     'max_weight': 5,\n     'available_routes': [1, 3, 4, 5, 6, 7, 8, 9, 10],\n     'next_action': {'process': 0,\n      'cargo_to_load': [],\n      'cargo_to_unload': [],\n      'destination': 0},\n     'current_airport': 2,\n     'cargo_at_current_airport': [],\n     'destination': 0}},\n   'active_cargo': [CargoObservation(id=0, location=7, destination=3, weight=1, earliest_pickup_time=0, is_available=True, soft_deadline=13, hard_deadline=20),\n    CargoObservation(id=1, location=10, destination=2, weight=1, earliest_pickup_time=0, is_available=True, soft_deadline=12, hard_deadline=18),\n    CargoObservation(id=2, location=9, destination=4, weight=1, earliest_pickup_time=0, is_available=True, soft_deadline=13, hard_deadline=20)],\n   'event_new_cargo': [],\n   'scenario_info': [ScenarioObservation(processing_time=4294967296, working_capacity=0)]}}}"
     },
     "execution_count": 4,
     "metadata": {},
     "output_type": "execute_result"
    }
   ],
   "source": [
    "dij.print_obs()"
   ],
   "metadata": {
    "collapsed": false,
    "pycharm": {
     "name": "#%%\n"
    }
   }
  },
  {
   "cell_type": "code",
   "execution_count": 5,
   "outputs": [
    {
     "name": "stdout",
     "output_type": "stream",
     "text": [
      "[2, 7, 3]\n",
      "[2, 10, 2]\n",
      "[2, 9, 4]\n",
      "{'a_0': {'cargo_id': 1, 'path_cargo': [10], 'path_deliver': [2]}}\n"
     ]
    }
   ],
   "source": [
    "dij.init_step()"
   ],
   "metadata": {
    "collapsed": false,
    "pycharm": {
     "name": "#%%\n"
    }
   }
  },
  {
   "cell_type": "code",
   "execution_count": 27,
   "outputs": [
    {
     "ename": "IndexError",
     "evalue": "list index out of range",
     "output_type": "error",
     "traceback": [
      "\u001B[1;31m---------------------------------------------------------------------------\u001B[0m",
      "\u001B[1;31mIndexError\u001B[0m                                Traceback (most recent call last)",
      "Cell \u001B[1;32mIn[27], line 1\u001B[0m\n\u001B[1;32m----> 1\u001B[0m \u001B[43mdij\u001B[49m\u001B[38;5;241;43m.\u001B[39;49m\u001B[43mstep\u001B[49m\u001B[43m(\u001B[49m\u001B[43m)\u001B[49m\n\u001B[0;32m      2\u001B[0m dij\u001B[38;5;241m.\u001B[39mprint_obs()\n",
      "Cell \u001B[1;32mIn[2], line 73\u001B[0m, in \u001B[0;36mDijkstra.step\u001B[1;34m(self)\u001B[0m\n\u001B[0;32m     70\u001B[0m         actions[i][\u001B[38;5;124m\"\u001B[39m\u001B[38;5;124mcargo_to_unload\u001B[39m\u001B[38;5;124m\"\u001B[39m] \u001B[38;5;241m=\u001B[39m []\n\u001B[0;32m     72\u001B[0m \u001B[38;5;28;01melse\u001B[39;00m:\n\u001B[1;32m---> 73\u001B[0m     \u001B[38;5;28;01mif\u001B[39;00m o[\u001B[38;5;124m\"\u001B[39m\u001B[38;5;124mcurrent_airport\u001B[39m\u001B[38;5;124m\"\u001B[39m] \u001B[38;5;241m==\u001B[39m \u001B[38;5;28;43mself\u001B[39;49m\u001B[38;5;241;43m.\u001B[39;49m\u001B[43mflight_plan\u001B[49m\u001B[43m[\u001B[49m\u001B[43mi\u001B[49m\u001B[43m]\u001B[49m\u001B[43m[\u001B[49m\u001B[38;5;124;43m\"\u001B[39;49m\u001B[38;5;124;43mpath_deliver\u001B[39;49m\u001B[38;5;124;43m\"\u001B[39;49m\u001B[43m]\u001B[49m\u001B[43m[\u001B[49m\u001B[38;5;241;43m-\u001B[39;49m\u001B[38;5;241;43m1\u001B[39;49m\u001B[43m]\u001B[49m:\n\u001B[0;32m     74\u001B[0m         actions[i][\u001B[38;5;124m\"\u001B[39m\u001B[38;5;124mprocess\u001B[39m\u001B[38;5;124m\"\u001B[39m] \u001B[38;5;241m=\u001B[39m \u001B[38;5;241m1\u001B[39m\n\u001B[0;32m     75\u001B[0m         actions[i][\u001B[38;5;124m\"\u001B[39m\u001B[38;5;124mcargo_to_load\u001B[39m\u001B[38;5;124m\"\u001B[39m] \u001B[38;5;241m=\u001B[39m []\n",
      "\u001B[1;31mIndexError\u001B[0m: list index out of range"
     ]
    }
   ],
   "source": [
    "dij.step()\n",
    "dij.print_obs()"
   ],
   "metadata": {
    "collapsed": false,
    "pycharm": {
     "name": "#%%\n"
    }
   }
  },
  {
   "cell_type": "code",
   "execution_count": 28,
   "outputs": [
    {
     "data": {
      "text/plain": "[{'a_0': -0.0009561},\n {'a_0': -0.0009561},\n {'a_0': -0.0009561},\n {'a_0': -0.0009561},\n {'a_0': -0.0009561},\n {'a_0': -0.0009561},\n {'a_0': -0.0009561},\n {'a_0': -0.0009561},\n {'a_0': 0},\n {'a_0': 0},\n {'a_0': 0},\n {'a_0': -0.0009561},\n {'a_0': -1.0009561},\n {'a_0': -3.0009561},\n {'a_0': -3.0009561},\n {'a_0': -3.0009561},\n {'a_0': -3.0009561},\n {'a_0': -3.0009561},\n {'a_0': -12.0009561},\n {'a_0': -2},\n {'a_0': -20}]"
     },
     "execution_count": 28,
     "metadata": {},
     "output_type": "execute_result"
    }
   ],
   "source": [
    "dij.get_rewards()"
   ],
   "metadata": {
    "collapsed": false,
    "pycharm": {
     "name": "#%%\n"
    }
   }
  }
 ],
 "metadata": {
  "kernelspec": {
   "display_name": "Python 3",
   "language": "python",
   "name": "python3"
  },
  "language_info": {
   "codemirror_mode": {
    "name": "ipython",
    "version": 2
   },
   "file_extension": ".py",
   "mimetype": "text/x-python",
   "name": "python",
   "nbconvert_exporter": "python",
   "pygments_lexer": "ipython2",
   "version": "2.7.6"
  }
 },
 "nbformat": 4,
 "nbformat_minor": 0
}