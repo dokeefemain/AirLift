{
 "cells": [
  {
   "cell_type": "code",
   "execution_count": 71,
   "metadata": {
    "collapsed": true
   },
   "outputs": [],
   "source": [
    "from airlift.envs import AirliftEnv, AirliftWorldGenerator, ActionHelper\n",
    "import networkx as nx\n",
    "import matplotlib.pyplot as plt"
   ]
  },
  {
   "cell_type": "code",
   "execution_count": 68,
   "outputs": [],
   "source": [
    "def policy(obs):\n",
    "    action_help = ActionHelper()\n",
    "    actions = action_help.sample_valid_actions(obs)\n",
    "    return actions"
   ],
   "metadata": {
    "collapsed": false,
    "pycharm": {
     "name": "#%%\n"
    }
   }
  },
  {
   "cell_type": "code",
   "execution_count": 69,
   "outputs": [],
   "source": [
    "env = AirliftEnv(AirliftWorldGenerator())\n",
    "obs = env.reset()"
   ],
   "metadata": {
    "collapsed": false,
    "pycharm": {
     "name": "#%%\n"
    }
   }
  },
  {
   "cell_type": "code",
   "execution_count": 70,
   "outputs": [
    {
     "data": {
      "text/plain": "{'a_0': {'cargo_onboard': [],\n  'state': <PlaneState.READY_FOR_TAKEOFF: 3>,\n  'plane_type': 0,\n  'current_weight': 0,\n  'max_weight': 5,\n  'available_routes': [2, 3],\n  'next_action': {'process': 0,\n   'cargo_to_load': [],\n   'cargo_to_unload': [],\n   'destination': 0},\n  'current_airport': 1,\n  'cargo_at_current_airport': [],\n  'destination': 0,\n  'globalstate': {'route_map': {0: <networkx.classes.digraph.DiGraph at 0x264d7af5be0>},\n   'plane_types': [PlaneTypeObservation(id=0, max_weight=5)],\n   'agents': {'a_0': {'cargo_onboard': [],\n     'state': <PlaneState.READY_FOR_TAKEOFF: 3>,\n     'plane_type': 0,\n     'current_weight': 0,\n     'max_weight': 5,\n     'available_routes': [2, 3],\n     'next_action': {'process': 0,\n      'cargo_to_load': [],\n      'cargo_to_unload': [],\n      'destination': 0},\n     'current_airport': 1,\n     'cargo_at_current_airport': [],\n     'destination': 0}},\n   'active_cargo': [CargoObservation(id=0, location=3, destination=2, weight=1, earliest_pickup_time=0, is_available=True, soft_deadline=12, hard_deadline=18)],\n   'event_new_cargo': [],\n   'scenario_info': [ScenarioObservation(processing_time=4294967296, working_capacity=0)]}}}"
     },
     "execution_count": 70,
     "metadata": {},
     "output_type": "execute_result"
    }
   ],
   "source": [
    "obs"
   ],
   "metadata": {
    "collapsed": false,
    "pycharm": {
     "name": "#%%\n"
    }
   }
  },
  {
   "cell_type": "markdown",
   "source": [
    "### Fly to airport 3 to pick up cargo"
   ],
   "metadata": {
    "collapsed": false,
    "pycharm": {
     "name": "#%% md\n"
    }
   }
  },
  {
   "cell_type": "code",
   "execution_count": 73,
   "outputs": [
    {
     "data": {
      "text/plain": "{'a_0': {'process': 0,\n  'cargo_to_load': [],\n  'cargo_to_unload': [],\n  'destination': 3}}"
     },
     "execution_count": 73,
     "metadata": {},
     "output_type": "execute_result"
    }
   ],
   "source": [
    "actions = { \"a_0\" : obs[\"a_0\"][\"next_action\"] }\n",
    "actions[\"a_0\"][\"destination\"] = 3\n",
    "actions"
   ],
   "metadata": {
    "collapsed": false,
    "pycharm": {
     "name": "#%%\n"
    }
   }
  },
  {
   "cell_type": "code",
   "execution_count": 81,
   "outputs": [
    {
     "data": {
      "text/plain": "{'a_0': {'cargo_onboard': [],\n  'state': <PlaneState.WAITING: 0>,\n  'plane_type': 0,\n  'current_weight': 0,\n  'max_weight': 5,\n  'available_routes': [1, 2],\n  'next_action': {'process': 0,\n   'cargo_to_load': [],\n   'cargo_to_unload': [],\n   'destination': 3},\n  'current_airport': 3,\n  'cargo_at_current_airport': [0],\n  'destination': 0,\n  'globalstate': {'route_map': {0: <networkx.classes.digraph.DiGraph at 0x264d7af5be0>},\n   'plane_types': [PlaneTypeObservation(id=0, max_weight=5)],\n   'agents': {'a_0': {'cargo_onboard': [],\n     'state': <PlaneState.WAITING: 0>,\n     'plane_type': 0,\n     'current_weight': 0,\n     'max_weight': 5,\n     'available_routes': [1, 2],\n     'next_action': {'process': 0,\n      'cargo_to_load': [],\n      'cargo_to_unload': [],\n      'destination': 3},\n     'current_airport': 3,\n     'cargo_at_current_airport': [0],\n     'destination': 0}},\n   'active_cargo': [CargoObservation(id=0, location=3, destination=2, weight=1, earliest_pickup_time=0, is_available=True, soft_deadline=12, hard_deadline=18)],\n   'event_new_cargo': [],\n   'scenario_info': [ScenarioObservation(processing_time=4294967296, working_capacity=0)]}}}"
     },
     "execution_count": 81,
     "metadata": {},
     "output_type": "execute_result"
    }
   ],
   "source": [
    "obs, rewards, dones, infos = env.step(actions)\n",
    "obs"
   ],
   "metadata": {
    "collapsed": false,
    "pycharm": {
     "name": "#%%\n"
    }
   }
  },
  {
   "cell_type": "markdown",
   "source": [
    "### Pick up cargo"
   ],
   "metadata": {
    "collapsed": false,
    "pycharm": {
     "name": "#%% md\n"
    }
   }
  },
  {
   "cell_type": "code",
   "execution_count": 82,
   "outputs": [
    {
     "data": {
      "text/plain": "{'a_0': {'process': 1,\n  'cargo_to_load': [0],\n  'cargo_to_unload': [],\n  'destination': 2}}"
     },
     "execution_count": 82,
     "metadata": {},
     "output_type": "execute_result"
    }
   ],
   "source": [
    "actions[\"a_0\"][\"process\"] = 1\n",
    "actions[\"a_0\"][\"cargo_to_load\"] = [0]\n",
    "actions[\"a_0\"][\"destination\"] = 2\n",
    "actions"
   ],
   "metadata": {
    "collapsed": false,
    "pycharm": {
     "name": "#%%\n"
    }
   }
  },
  {
   "cell_type": "code",
   "execution_count": 83,
   "outputs": [
    {
     "data": {
      "text/plain": "{'a_0': {'cargo_onboard': [],\n  'state': <PlaneState.PROCESSING: 1>,\n  'plane_type': 0,\n  'current_weight': 0,\n  'max_weight': 5,\n  'available_routes': [1, 2],\n  'next_action': {'process': 0,\n   'cargo_to_load': [],\n   'cargo_to_unload': [],\n   'destination': 2},\n  'current_airport': 3,\n  'cargo_at_current_airport': [],\n  'destination': 0,\n  'globalstate': {'route_map': {0: <networkx.classes.digraph.DiGraph at 0x264d7af5be0>},\n   'plane_types': [PlaneTypeObservation(id=0, max_weight=5)],\n   'agents': {'a_0': {'cargo_onboard': [],\n     'state': <PlaneState.PROCESSING: 1>,\n     'plane_type': 0,\n     'current_weight': 0,\n     'max_weight': 5,\n     'available_routes': [1, 2],\n     'next_action': {'process': 0,\n      'cargo_to_load': [],\n      'cargo_to_unload': [],\n      'destination': 2},\n     'current_airport': 3,\n     'cargo_at_current_airport': [],\n     'destination': 0}},\n   'active_cargo': [CargoObservation(id=0, location=0, destination=2, weight=1, earliest_pickup_time=0, is_available=True, soft_deadline=12, hard_deadline=18)],\n   'event_new_cargo': [],\n   'scenario_info': [ScenarioObservation(processing_time=4294967296, working_capacity=0)]}}}"
     },
     "execution_count": 83,
     "metadata": {},
     "output_type": "execute_result"
    }
   ],
   "source": [
    "obs, rewards, dones, infos = env.step(actions)\n",
    "obs"
   ],
   "metadata": {
    "collapsed": false,
    "pycharm": {
     "name": "#%%\n"
    }
   }
  },
  {
   "cell_type": "code",
   "execution_count": 84,
   "outputs": [
    {
     "data": {
      "text/plain": "({'a_0': {'cargo_onboard': [0],\n   'state': <PlaneState.READY_FOR_TAKEOFF: 3>,\n   'plane_type': 0,\n   'current_weight': 1,\n   'max_weight': 5,\n   'available_routes': [1, 2],\n   'next_action': {'process': 0,\n    'cargo_to_load': [],\n    'cargo_to_unload': [],\n    'destination': 2},\n   'current_airport': 3,\n   'cargo_at_current_airport': [],\n   'destination': 0,\n   'globalstate': {'route_map': {0: <networkx.classes.digraph.DiGraph at 0x264d7af5be0>},\n    'plane_types': [PlaneTypeObservation(id=0, max_weight=5)],\n    'agents': {'a_0': {'cargo_onboard': [0],\n      'state': <PlaneState.READY_FOR_TAKEOFF: 3>,\n      'plane_type': 0,\n      'current_weight': 1,\n      'max_weight': 5,\n      'available_routes': [1, 2],\n      'next_action': {'process': 0,\n       'cargo_to_load': [],\n       'cargo_to_unload': [],\n       'destination': 2},\n      'current_airport': 3,\n      'cargo_at_current_airport': [],\n      'destination': 0}},\n    'active_cargo': [CargoObservation(id=0, location=0, destination=2, weight=1, earliest_pickup_time=0, is_available=True, soft_deadline=12, hard_deadline=18)],\n    'event_new_cargo': [],\n    'scenario_info': [ScenarioObservation(processing_time=4294967296, working_capacity=0)]}}},\n {'a_0': 0})"
     },
     "execution_count": 84,
     "metadata": {},
     "output_type": "execute_result"
    }
   ],
   "source": [
    "obs, rewards, dones, infos = env.step({ \"a_0\" : obs[\"a_0\"][\"next_action\"] })\n",
    "obs, rewards"
   ],
   "metadata": {
    "collapsed": false,
    "pycharm": {
     "name": "#%%\n"
    }
   }
  },
  {
   "cell_type": "code",
   "execution_count": 86,
   "outputs": [
    {
     "data": {
      "text/plain": "{'a_0': {'process': 0,\n  'cargo_to_load': [],\n  'cargo_to_unload': [],\n  'destination': 2}}"
     },
     "execution_count": 86,
     "metadata": {},
     "output_type": "execute_result"
    }
   ],
   "source": [
    "actions[\"a_0\"][\"process\"] = 0\n",
    "actions[\"a_0\"][\"cargo_to_load\"] = []\n",
    "actions[\"a_0\"][\"destination\"] = 2\n",
    "actions"
   ],
   "metadata": {
    "collapsed": false,
    "pycharm": {
     "name": "#%%\n"
    }
   }
  },
  {
   "cell_type": "code",
   "execution_count": 95,
   "outputs": [
    {
     "data": {
      "text/plain": "({'a_0': {'cargo_onboard': [0],\n   'state': <PlaneState.WAITING: 0>,\n   'plane_type': 0,\n   'current_weight': 1,\n   'max_weight': 5,\n   'available_routes': [1, 3],\n   'next_action': {'process': 0,\n    'cargo_to_load': [],\n    'cargo_to_unload': [],\n    'destination': 2},\n   'current_airport': 2,\n   'cargo_at_current_airport': [],\n   'destination': 0,\n   'globalstate': {'route_map': {0: <networkx.classes.digraph.DiGraph at 0x264d7af5be0>},\n    'plane_types': [PlaneTypeObservation(id=0, max_weight=5)],\n    'agents': {'a_0': {'cargo_onboard': [0],\n      'state': <PlaneState.WAITING: 0>,\n      'plane_type': 0,\n      'current_weight': 1,\n      'max_weight': 5,\n      'available_routes': [1, 3],\n      'next_action': {'process': 0,\n       'cargo_to_load': [],\n       'cargo_to_unload': [],\n       'destination': 2},\n      'current_airport': 2,\n      'cargo_at_current_airport': [],\n      'destination': 0}},\n    'active_cargo': [CargoObservation(id=0, location=0, destination=2, weight=1, earliest_pickup_time=0, is_available=True, soft_deadline=12, hard_deadline=18)],\n    'event_new_cargo': [],\n    'scenario_info': [ScenarioObservation(processing_time=4294967296, working_capacity=0)]}}},\n {'a_0': -1})"
     },
     "execution_count": 95,
     "metadata": {},
     "output_type": "execute_result"
    }
   ],
   "source": [
    "obs, rewards, dones, infos = env.step(actions)\n",
    "obs, rewards"
   ],
   "metadata": {
    "collapsed": false,
    "pycharm": {
     "name": "#%%\n"
    }
   }
  },
  {
   "cell_type": "code",
   "execution_count": 96,
   "outputs": [
    {
     "data": {
      "text/plain": "{'a_0': {'process': 1,\n  'cargo_to_load': [],\n  'cargo_to_unload': [0],\n  'destination': 2}}"
     },
     "execution_count": 96,
     "metadata": {},
     "output_type": "execute_result"
    }
   ],
   "source": [
    "actions[\"a_0\"][\"process\"] = 1\n",
    "actions[\"a_0\"][\"cargo_to_unload\"] = [0]\n",
    "actions[\"a_0\"][\"destination\"] = 2\n",
    "actions"
   ],
   "metadata": {
    "collapsed": false,
    "pycharm": {
     "name": "#%%\n"
    }
   }
  },
  {
   "cell_type": "code",
   "execution_count": 97,
   "outputs": [
    {
     "data": {
      "text/plain": "({'a_0': {'cargo_onboard': [],\n   'state': <PlaneState.PROCESSING: 1>,\n   'plane_type': 0,\n   'current_weight': 0,\n   'max_weight': 5,\n   'available_routes': [1, 3],\n   'next_action': {'process': 0,\n    'cargo_to_load': [],\n    'cargo_to_unload': [],\n    'destination': 2},\n   'current_airport': 2,\n   'cargo_at_current_airport': [],\n   'destination': 0,\n   'globalstate': {'route_map': {0: <networkx.classes.digraph.DiGraph at 0x264d7af5be0>},\n    'plane_types': [PlaneTypeObservation(id=0, max_weight=5)],\n    'agents': {'a_0': {'cargo_onboard': [],\n      'state': <PlaneState.PROCESSING: 1>,\n      'plane_type': 0,\n      'current_weight': 0,\n      'max_weight': 5,\n      'available_routes': [1, 3],\n      'next_action': {'process': 0,\n       'cargo_to_load': [],\n       'cargo_to_unload': [],\n       'destination': 2},\n      'current_airport': 2,\n      'cargo_at_current_airport': [],\n      'destination': 0}},\n    'active_cargo': [CargoObservation(id=0, location=0, destination=2, weight=1, earliest_pickup_time=0, is_available=True, soft_deadline=12, hard_deadline=18)],\n    'event_new_cargo': [],\n    'scenario_info': [ScenarioObservation(processing_time=4294967296, working_capacity=0)]}}},\n {'a_0': -1})"
     },
     "execution_count": 97,
     "metadata": {},
     "output_type": "execute_result"
    }
   ],
   "source": [
    "obs, rewards, dones, infos = env.step(actions)\n",
    "obs, rewards"
   ],
   "metadata": {
    "collapsed": false,
    "pycharm": {
     "name": "#%%\n"
    }
   }
  },
  {
   "cell_type": "code",
   "execution_count": 98,
   "outputs": [
    {
     "data": {
      "text/plain": "({'a_0': {'cargo_onboard': [],\n   'state': <PlaneState.READY_FOR_TAKEOFF: 3>,\n   'plane_type': 0,\n   'current_weight': 0,\n   'max_weight': 5,\n   'available_routes': [1, 3],\n   'next_action': {'process': 0,\n    'cargo_to_load': [],\n    'cargo_to_unload': [],\n    'destination': 2},\n   'current_airport': 2,\n   'cargo_at_current_airport': [0],\n   'destination': 0,\n   'globalstate': {'route_map': {0: <networkx.classes.digraph.DiGraph at 0x264d7af5be0>},\n    'plane_types': [PlaneTypeObservation(id=0, max_weight=5)],\n    'agents': {'a_0': {'cargo_onboard': [],\n      'state': <PlaneState.READY_FOR_TAKEOFF: 3>,\n      'plane_type': 0,\n      'current_weight': 0,\n      'max_weight': 5,\n      'available_routes': [1, 3],\n      'next_action': {'process': 0,\n       'cargo_to_load': [],\n       'cargo_to_unload': [],\n       'destination': 2},\n      'current_airport': 2,\n      'cargo_at_current_airport': [0],\n      'destination': 0}},\n    'active_cargo': [],\n    'event_new_cargo': [],\n    'scenario_info': [ScenarioObservation(processing_time=4294967296, working_capacity=0)]}}},\n {'a_0': -1})"
     },
     "execution_count": 98,
     "metadata": {},
     "output_type": "execute_result"
    }
   ],
   "source": [
    "obs, rewards, dones, infos = env.step({ \"a_0\" : obs[\"a_0\"][\"next_action\"] })\n",
    "obs, rewards"
   ],
   "metadata": {
    "collapsed": false,
    "pycharm": {
     "name": "#%%\n"
    }
   }
  },
  {
   "cell_type": "markdown",
   "source": [
    "# Graph stuff"
   ],
   "metadata": {
    "collapsed": false,
    "pycharm": {
     "name": "#%% md\n"
    }
   }
  },
  {
   "cell_type": "code",
   "execution_count": 124,
   "outputs": [],
   "source": [
    "import scipy\n",
    "import numpy as np\n",
    "from airlift.envs import AirliftEnv, AirliftWorldGenerator, ActionHelper, generators\n",
    "from airlift.envs import StaticCargoGenerator, DynamicCargoGenerator\n",
    "import airlift\n",
    "import networkx as nx\n",
    "import matplotlib.pyplot as plt"
   ],
   "metadata": {
    "collapsed": false,
    "pycharm": {
     "name": "#%%\n"
    }
   }
  },
  {
   "cell_type": "code",
   "execution_count": null,
   "outputs": [],
   "source": [
    "num_dynamic_cargo = 0\n",
    "dynamic_cargo_generation_rate = 1/100\n",
    "num_cargo = 3\n",
    "soft_deadline_multiplier = 25\n",
    "hard_deadline_multiplier = 50\n",
    "cargo_generator=DynamicCargoGenerator(\n",
    "                 cargo_creation_rate=dynamic_cargo_generation_rate,\n",
    "                 max_cargo_to_create=num_dynamic_cargo,\n",
    "                 num_initial_tasks=num_cargo,\n",
    "                 soft_deadline_multiplier=soft_deadline_multiplier,\n",
    "                 hard_deadline_multiplier=hard_deadline_multiplier)"
   ],
   "metadata": {
    "collapsed": false,
    "pycharm": {
     "name": "#%%\n"
    }
   }
  },
  {
   "cell_type": "code",
   "execution_count": 150,
   "outputs": [],
   "source": [
    "env = AirliftEnv(AirliftWorldGenerator(cargo_generator=generators.cargo_generators.StaticCargoGenerator(3),\n",
    "                                       airport_generator=generators.airport_generators.RandomAirportGenerator(10, num_pick_up_airports=5, num_drop_off_airports=4)))\n",
    "obs = env.reset()"
   ],
   "metadata": {
    "collapsed": false,
    "pycharm": {
     "name": "#%%\n"
    }
   }
  },
  {
   "cell_type": "code",
   "execution_count": 151,
   "outputs": [
    {
     "data": {
      "text/plain": "{'a_0': {'cargo_onboard': [],\n  'state': <PlaneState.READY_FOR_TAKEOFF: 3>,\n  'plane_type': 0,\n  'current_weight': 0,\n  'max_weight': 5,\n  'available_routes': [1, 2, 4, 5, 6, 7, 8, 9, 10],\n  'next_action': {'process': 0,\n   'cargo_to_load': [],\n   'cargo_to_unload': [],\n   'destination': 0},\n  'current_airport': 3,\n  'cargo_at_current_airport': [],\n  'destination': 0,\n  'globalstate': {'route_map': {0: <networkx.classes.digraph.DiGraph at 0x264f2704370>},\n   'plane_types': [PlaneTypeObservation(id=0, max_weight=5)],\n   'agents': {'a_0': {'cargo_onboard': [],\n     'state': <PlaneState.READY_FOR_TAKEOFF: 3>,\n     'plane_type': 0,\n     'current_weight': 0,\n     'max_weight': 5,\n     'available_routes': [1, 2, 4, 5, 6, 7, 8, 9, 10],\n     'next_action': {'process': 0,\n      'cargo_to_load': [],\n      'cargo_to_unload': [],\n      'destination': 0},\n     'current_airport': 3,\n     'cargo_at_current_airport': [],\n     'destination': 0}},\n   'active_cargo': [CargoObservation(id=0, location=8, destination=2, weight=1, earliest_pickup_time=0, is_available=True, soft_deadline=11, hard_deadline=16),\n    CargoObservation(id=1, location=10, destination=2, weight=1, earliest_pickup_time=0, is_available=True, soft_deadline=13, hard_deadline=19),\n    CargoObservation(id=2, location=9, destination=2, weight=1, earliest_pickup_time=0, is_available=True, soft_deadline=11, hard_deadline=16)],\n   'event_new_cargo': [],\n   'scenario_info': [ScenarioObservation(processing_time=4294967296, working_capacity=0)]}}}"
     },
     "execution_count": 151,
     "metadata": {},
     "output_type": "execute_result"
    }
   ],
   "source": [
    "obs"
   ],
   "metadata": {
    "collapsed": false,
    "pycharm": {
     "name": "#%%\n"
    }
   }
  },
  {
   "cell_type": "code",
   "execution_count": 122,
   "outputs": [],
   "source": [
    "g = obs[\"a_0\"][\"globalstate\"][\"route_map\"][0]"
   ],
   "metadata": {
    "collapsed": false,
    "pycharm": {
     "name": "#%%\n"
    }
   }
  },
  {
   "cell_type": "markdown",
   "source": [
    "DiGraph(number_of_nodes=max_airports, edge_attributes=['cost', 'time', 'route_available'])"
   ],
   "metadata": {
    "collapsed": false,
    "pycharm": {
     "name": "#%% md\n"
    }
   }
  },
  {
   "cell_type": "code",
   "execution_count": 123,
   "outputs": [
    {
     "data": {
      "text/plain": "OutEdgeView([(1, 2), (1, 3), (1, 4), (1, 5), (1, 6), (1, 7), (1, 8), (1, 9), (1, 10), (2, 1), (2, 3), (2, 4), (2, 5), (2, 6), (2, 7), (2, 8), (2, 9), (2, 10), (3, 1), (3, 2), (3, 4), (3, 5), (3, 6), (3, 7), (3, 8), (3, 9), (3, 10), (4, 1), (4, 2), (4, 3), (4, 5), (4, 6), (4, 7), (4, 8), (4, 9), (4, 10), (5, 1), (5, 2), (5, 3), (5, 4), (5, 6), (5, 7), (5, 8), (5, 9), (5, 10), (6, 1), (6, 2), (6, 3), (6, 4), (6, 5), (6, 7), (6, 8), (6, 9), (6, 10), (7, 1), (7, 2), (7, 3), (7, 4), (7, 5), (7, 6), (7, 8), (7, 9), (7, 10), (8, 1), (8, 2), (8, 3), (8, 4), (8, 5), (8, 6), (8, 7), (8, 9), (9, 1), (9, 2), (9, 3), (9, 4), (9, 5), (9, 6), (9, 7), (9, 8), (10, 1), (10, 2), (10, 3), (10, 4), (10, 5), (10, 6), (10, 7)])"
     },
     "execution_count": 123,
     "metadata": {},
     "output_type": "execute_result"
    }
   ],
   "source": [
    "g.edges()"
   ],
   "metadata": {
    "collapsed": false,
    "pycharm": {
     "name": "#%%\n"
    }
   }
  },
  {
   "cell_type": "code",
   "execution_count": 140,
   "outputs": [
    {
     "data": {
      "text/plain": "{(1, 2): 2,\n (1, 3): 7,\n (1, 4): 6,\n (1, 5): 2,\n (1, 6): 14,\n (1, 7): 14,\n (1, 8): 13,\n (1, 9): 13,\n (1, 10): 14,\n (2, 1): 2,\n (2, 3): 7,\n (2, 4): 7,\n (2, 5): 3,\n (2, 6): 14,\n (2, 7): 14,\n (2, 8): 13,\n (2, 9): 13,\n (2, 10): 14,\n (3, 1): 7,\n (3, 2): 7,\n (3, 4): 8,\n (3, 5): 6,\n (3, 6): 8,\n (3, 7): 8,\n (3, 8): 7,\n (3, 9): 8,\n (3, 10): 8,\n (4, 1): 6,\n (4, 2): 7,\n (4, 3): 8,\n (4, 5): 5,\n (4, 6): 12,\n (4, 7): 12,\n (4, 8): 11,\n (4, 9): 11,\n (4, 10): 11,\n (5, 1): 2,\n (5, 2): 3,\n (5, 3): 6,\n (5, 4): 5,\n (5, 6): 13,\n (5, 7): 13,\n (5, 8): 12,\n (5, 9): 12,\n (5, 10): 13,\n (6, 1): 14,\n (6, 2): 14,\n (6, 3): 8,\n (6, 4): 12,\n (6, 5): 13,\n (6, 7): 1,\n (6, 8): 2,\n (6, 9): 2,\n (6, 10): 2,\n (7, 1): 14,\n (7, 2): 14,\n (7, 3): 8,\n (7, 4): 12,\n (7, 5): 13,\n (7, 6): 1,\n (7, 8): 2,\n (7, 9): 2,\n (7, 10): 2,\n (8, 1): 13,\n (8, 2): 13,\n (8, 3): 7,\n (8, 4): 11,\n (8, 5): 12,\n (8, 6): 2,\n (8, 7): 2,\n (8, 9): 1,\n (8, 10): 2,\n (9, 1): 13,\n (9, 2): 13,\n (9, 3): 8,\n (9, 4): 11,\n (9, 5): 12,\n (9, 6): 2,\n (9, 7): 2,\n (9, 8): 1,\n (9, 10): 1,\n (10, 1): 14,\n (10, 2): 14,\n (10, 3): 8,\n (10, 4): 11,\n (10, 5): 13,\n (10, 6): 2,\n (10, 7): 2,\n (10, 8): 2,\n (10, 9): 1}"
     },
     "execution_count": 140,
     "metadata": {},
     "output_type": "execute_result"
    }
   ],
   "source": [
    "nx.get_edge_attributes(g, 'time')"
   ],
   "metadata": {
    "collapsed": false,
    "pycharm": {
     "name": "#%%\n"
    }
   }
  },
  {
   "cell_type": "code",
   "execution_count": 115,
   "outputs": [
    {
     "data": {
      "text/plain": "{(1, 2): 3, (1, 3): 5, (2, 1): 3, (2, 3): 7, (3, 1): 5, (3, 2): 7}"
     },
     "execution_count": 115,
     "metadata": {},
     "output_type": "execute_result"
    }
   ],
   "source": [
    "nx.get_edge_attributes(g, 'time')"
   ],
   "metadata": {
    "collapsed": false,
    "pycharm": {
     "name": "#%%\n"
    }
   }
  },
  {
   "cell_type": "code",
   "execution_count": 116,
   "outputs": [
    {
     "data": {
      "text/plain": "{}"
     },
     "execution_count": 116,
     "metadata": {},
     "output_type": "execute_result"
    }
   ],
   "source": [
    "nx.get_edge_attributes(g, 'route_avaliable')"
   ],
   "metadata": {
    "collapsed": false,
    "pycharm": {
     "name": "#%%\n"
    }
   }
  },
  {
   "cell_type": "markdown",
   "source": [
    "### Scenario 1: no cargo so we want to pick up the least cost cargo\n",
    "Step 1: find all possible paths to each cargo"
   ],
   "metadata": {
    "collapsed": false,
    "pycharm": {
     "name": "#%% md\n"
    }
   }
  },
  {
   "cell_type": "code",
   "execution_count": null,
   "outputs": [],
   "source": [],
   "metadata": {
    "collapsed": false,
    "pycharm": {
     "name": "#%%\n"
    }
   }
  },
  {
   "cell_type": "code",
   "execution_count": 159,
   "outputs": [
    {
     "data": {
      "text/plain": "([[8, 2], [10, 2], [9, 2]], 3)"
     },
     "execution_count": 159,
     "metadata": {},
     "output_type": "execute_result"
    }
   ],
   "source": [
    "cargo = obs[\"a_0\"]['globalstate'][\"active_cargo\"]\n",
    "cargo_locations = []\n",
    "for i in cargo:\n",
    "    cargo_locations.append([i.location, i.destination])\n",
    "curr_location = obs[\"a_0\"][\"current_airport\"]\n",
    "cargo_locations, curr_location"
   ],
   "metadata": {
    "collapsed": false,
    "pycharm": {
     "name": "#%%\n"
    }
   }
  },
  {
   "cell_type": "code",
   "execution_count": 160,
   "outputs": [],
   "source": [
    "g = obs[\"a_0\"][\"globalstate\"][\"route_map\"][0]"
   ],
   "metadata": {
    "collapsed": false,
    "pycharm": {
     "name": "#%%\n"
    }
   }
  },
  {
   "cell_type": "code",
   "execution_count": 161,
   "outputs": [
    {
     "name": "stdout",
     "output_type": "stream",
     "text": [
      "[3, 8] [8, 2] 0.49090183626292827 0.5875424776538719\n",
      "[3, 10] [10, 2] 0.6689838942234589 0.7801398173190979\n",
      "[3, 9] [9, 2] 0.4336539131742871 0.5275030864626126\n"
     ]
    },
    {
     "data": {
      "text/plain": "(0.9611569996368996, [3, 9], [9, 2])"
     },
     "execution_count": 161,
     "metadata": {},
     "output_type": "execute_result"
    }
   ],
   "source": [
    "min_time = 1000\n",
    "path_start = []\n",
    "path_deliver = []\n",
    "min_cargo = -1\n",
    "for i in cargo:\n",
    "    length1, path1 = nx.single_source_dijkstra(g, curr_location, target=i.location, weight=\"cost\")\n",
    "    length2, path2 = nx.single_source_dijkstra(g, i.location, target=i.destination, weight=\"cost\")\n",
    "    print(path1, path2, length1, length2)\n",
    "    total = length1 + length2\n",
    "    if total <= i.soft_deadline and total < min_time:\n",
    "        min_time = total\n",
    "        path_start = path1\n",
    "        path_deliver = path2\n",
    "        min_cargo = i.id\n",
    "\n",
    "min_time, path_start, path_deliver"
   ],
   "metadata": {
    "collapsed": false,
    "pycharm": {
     "name": "#%%\n"
    }
   }
  },
  {
   "cell_type": "code",
   "execution_count": 156,
   "outputs": [
    {
     "data": {
      "text/plain": "{'a_0': {'cargo_onboard': [],\n  'state': <PlaneState.READY_FOR_TAKEOFF: 3>,\n  'plane_type': 0,\n  'current_weight': 0,\n  'max_weight': 5,\n  'available_routes': [1, 2, 4, 5, 6, 7, 8, 9, 10],\n  'next_action': {'process': 0,\n   'cargo_to_load': [],\n   'cargo_to_unload': [],\n   'destination': 0},\n  'current_airport': 3,\n  'cargo_at_current_airport': [],\n  'destination': 0,\n  'globalstate': {'route_map': {0: <networkx.classes.digraph.DiGraph at 0x264f2704370>},\n   'plane_types': [PlaneTypeObservation(id=0, max_weight=5)],\n   'agents': {'a_0': {'cargo_onboard': [],\n     'state': <PlaneState.READY_FOR_TAKEOFF: 3>,\n     'plane_type': 0,\n     'current_weight': 0,\n     'max_weight': 5,\n     'available_routes': [1, 2, 4, 5, 6, 7, 8, 9, 10],\n     'next_action': {'process': 0,\n      'cargo_to_load': [],\n      'cargo_to_unload': [],\n      'destination': 0},\n     'current_airport': 3,\n     'cargo_at_current_airport': [],\n     'destination': 0}},\n   'active_cargo': [CargoObservation(id=0, location=8, destination=2, weight=1, earliest_pickup_time=0, is_available=True, soft_deadline=11, hard_deadline=16),\n    CargoObservation(id=1, location=10, destination=2, weight=1, earliest_pickup_time=0, is_available=True, soft_deadline=13, hard_deadline=19),\n    CargoObservation(id=2, location=9, destination=2, weight=1, earliest_pickup_time=0, is_available=True, soft_deadline=11, hard_deadline=16)],\n   'event_new_cargo': [],\n   'scenario_info': [ScenarioObservation(processing_time=4294967296, working_capacity=0)]}}}"
     },
     "execution_count": 156,
     "metadata": {},
     "output_type": "execute_result"
    }
   ],
   "source": [
    "obs"
   ],
   "metadata": {
    "collapsed": false,
    "pycharm": {
     "name": "#%%\n"
    }
   }
  },
  {
   "cell_type": "code",
   "execution_count": 162,
   "outputs": [
    {
     "name": "stdout",
     "output_type": "stream",
     "text": [
      "3\n",
      "3\n",
      "3\n",
      "3\n",
      "3\n",
      "3\n",
      "9\n"
     ]
    }
   ],
   "source": [
    "back = path_start[0]\n",
    "for i in path_start[1:]:\n",
    "    while obs[\"a_0\"][\"current_airport\"] == back:\n",
    "        action = {'a_0': {'process': 0,\n",
    "              'cargo_to_load': [],\n",
    "              'cargo_to_unload': [],\n",
    "              'destination': i}}\n",
    "        back = obs[\"a_0\"][\"current_airport\"]\n",
    "        obs, rewards, dones, infos = env.step(action)\n",
    "        print(obs[\"a_0\"][\"current_airport\"])\n",
    "    back = i"
   ],
   "metadata": {
    "collapsed": false,
    "pycharm": {
     "name": "#%%\n"
    }
   }
  },
  {
   "cell_type": "code",
   "execution_count": 165,
   "outputs": [],
   "source": [
    "# pick_up\n",
    "action = {'a_0': {'process': 1,\n",
    "              'cargo_to_load': [min_cargo],\n",
    "              'cargo_to_unload': [],\n",
    "              'destination': back}}\n",
    "obs, rewards, dones, infos = env.step(action)"
   ],
   "metadata": {
    "collapsed": false,
    "pycharm": {
     "name": "#%%\n"
    }
   }
  },
  {
   "cell_type": "code",
   "execution_count": 166,
   "outputs": [
    {
     "data": {
      "text/plain": "{'a_0': {'cargo_onboard': [],\n  'state': <PlaneState.PROCESSING: 1>,\n  'plane_type': 0,\n  'current_weight': 0,\n  'max_weight': 5,\n  'available_routes': [1, 2, 3, 4, 5, 6, 7, 8, 10],\n  'next_action': {'process': 0,\n   'cargo_to_load': [],\n   'cargo_to_unload': [],\n   'destination': 9},\n  'current_airport': 9,\n  'cargo_at_current_airport': [],\n  'destination': 0,\n  'globalstate': {'route_map': {0: <networkx.classes.digraph.DiGraph at 0x264f2704370>},\n   'plane_types': [PlaneTypeObservation(id=0, max_weight=5)],\n   'agents': {'a_0': {'cargo_onboard': [],\n     'state': <PlaneState.PROCESSING: 1>,\n     'plane_type': 0,\n     'current_weight': 0,\n     'max_weight': 5,\n     'available_routes': [1, 2, 3, 4, 5, 6, 7, 8, 10],\n     'next_action': {'process': 0,\n      'cargo_to_load': [],\n      'cargo_to_unload': [],\n      'destination': 9},\n     'current_airport': 9,\n     'cargo_at_current_airport': [],\n     'destination': 0}},\n   'active_cargo': [CargoObservation(id=0, location=8, destination=2, weight=1, earliest_pickup_time=0, is_available=True, soft_deadline=11, hard_deadline=16),\n    CargoObservation(id=1, location=10, destination=2, weight=1, earliest_pickup_time=0, is_available=True, soft_deadline=13, hard_deadline=19),\n    CargoObservation(id=2, location=0, destination=2, weight=1, earliest_pickup_time=0, is_available=True, soft_deadline=11, hard_deadline=16)],\n   'event_new_cargo': [],\n   'scenario_info': [ScenarioObservation(processing_time=4294967296, working_capacity=0)]}}}"
     },
     "execution_count": 166,
     "metadata": {},
     "output_type": "execute_result"
    }
   ],
   "source": [
    "obs"
   ],
   "metadata": {
    "collapsed": false,
    "pycharm": {
     "name": "#%%\n"
    }
   }
  },
  {
   "cell_type": "code",
   "execution_count": 167,
   "outputs": [
    {
     "name": "stdout",
     "output_type": "stream",
     "text": [
      "9 [2]\n",
      "9 [2]\n",
      "9 [2]\n",
      "9 [2]\n",
      "9 [2]\n",
      "9 [2]\n",
      "9 [2]\n",
      "9 [2]\n",
      "2 [2]\n"
     ]
    }
   ],
   "source": [
    "for i in path_deliver[1:]:\n",
    "    while obs[\"a_0\"][\"current_airport\"] == back:\n",
    "        action = {'a_0': {'process': 0,\n",
    "              'cargo_to_load': [],\n",
    "              'cargo_to_unload': [],\n",
    "              'destination': i}}\n",
    "        back = obs[\"a_0\"][\"current_airport\"]\n",
    "        obs, rewards, dones, infos = env.step(action)\n",
    "        print(obs[\"a_0\"][\"current_airport\"],obs[\"a_0\"][\"cargo_onboard\"] )\n",
    "    back = i"
   ],
   "metadata": {
    "collapsed": false,
    "pycharm": {
     "name": "#%%\n"
    }
   }
  },
  {
   "cell_type": "code",
   "execution_count": 168,
   "outputs": [
    {
     "data": {
      "text/plain": "{'a_0': {'cargo_onboard': [2],\n  'state': <PlaneState.WAITING: 0>,\n  'plane_type': 0,\n  'current_weight': 1,\n  'max_weight': 5,\n  'available_routes': [1, 3, 4, 5, 6, 7, 8, 9, 10],\n  'next_action': {'process': 0,\n   'cargo_to_load': [],\n   'cargo_to_unload': [],\n   'destination': 2},\n  'current_airport': 2,\n  'cargo_at_current_airport': [],\n  'destination': 0,\n  'globalstate': {'route_map': {0: <networkx.classes.digraph.DiGraph at 0x264f2704370>},\n   'plane_types': [PlaneTypeObservation(id=0, max_weight=5)],\n   'agents': {'a_0': {'cargo_onboard': [2],\n     'state': <PlaneState.WAITING: 0>,\n     'plane_type': 0,\n     'current_weight': 1,\n     'max_weight': 5,\n     'available_routes': [1, 3, 4, 5, 6, 7, 8, 9, 10],\n     'next_action': {'process': 0,\n      'cargo_to_load': [],\n      'cargo_to_unload': [],\n      'destination': 2},\n     'current_airport': 2,\n     'cargo_at_current_airport': [],\n     'destination': 0}},\n   'active_cargo': [CargoObservation(id=1, location=10, destination=2, weight=1, earliest_pickup_time=0, is_available=True, soft_deadline=13, hard_deadline=19)],\n   'event_new_cargo': [],\n   'scenario_info': [ScenarioObservation(processing_time=4294967296, working_capacity=0)]}}}"
     },
     "execution_count": 168,
     "metadata": {},
     "output_type": "execute_result"
    }
   ],
   "source": [
    "obs"
   ],
   "metadata": {
    "collapsed": false,
    "pycharm": {
     "name": "#%%\n"
    }
   }
  },
  {
   "cell_type": "code",
   "execution_count": 169,
   "outputs": [],
   "source": [
    "action = {'a_0': {'process': 1,\n",
    "                  'cargo_to_load': [],\n",
    "                  'cargo_to_unload': [min_cargo],\n",
    "                  'destination': back}}\n",
    "obs, rewards, dones, infos = env.step(action)"
   ],
   "metadata": {
    "collapsed": false,
    "pycharm": {
     "name": "#%%\n"
    }
   }
  },
  {
   "cell_type": "code",
   "execution_count": 171,
   "outputs": [
    {
     "data": {
      "text/plain": "{'a_0': {'cargo_onboard': [],\n  'state': <PlaneState.PROCESSING: 1>,\n  'plane_type': 0,\n  'current_weight': 0,\n  'max_weight': 5,\n  'available_routes': [1, 3, 4, 5, 6, 7, 8, 9, 10],\n  'next_action': {'process': 0,\n   'cargo_to_load': [],\n   'cargo_to_unload': [],\n   'destination': 2},\n  'current_airport': 2,\n  'cargo_at_current_airport': [],\n  'destination': 0,\n  'globalstate': {'route_map': {0: <networkx.classes.digraph.DiGraph at 0x264f2704370>},\n   'plane_types': [PlaneTypeObservation(id=0, max_weight=5)],\n   'agents': {'a_0': {'cargo_onboard': [],\n     'state': <PlaneState.PROCESSING: 1>,\n     'plane_type': 0,\n     'current_weight': 0,\n     'max_weight': 5,\n     'available_routes': [1, 3, 4, 5, 6, 7, 8, 9, 10],\n     'next_action': {'process': 0,\n      'cargo_to_load': [],\n      'cargo_to_unload': [],\n      'destination': 2},\n     'current_airport': 2,\n     'cargo_at_current_airport': [],\n     'destination': 0}},\n   'active_cargo': [CargoObservation(id=1, location=10, destination=2, weight=1, earliest_pickup_time=0, is_available=True, soft_deadline=13, hard_deadline=19)],\n   'event_new_cargo': [],\n   'scenario_info': [ScenarioObservation(processing_time=4294967296, working_capacity=0)]}}}"
     },
     "execution_count": 171,
     "metadata": {},
     "output_type": "execute_result"
    }
   ],
   "source": [
    "obs"
   ],
   "metadata": {
    "collapsed": false,
    "pycharm": {
     "name": "#%%\n"
    }
   }
  },
  {
   "cell_type": "code",
   "execution_count": 172,
   "outputs": [
    {
     "data": {
      "text/plain": "{'a_0': -2}"
     },
     "execution_count": 172,
     "metadata": {},
     "output_type": "execute_result"
    }
   ],
   "source": [
    "action = {'a_0': {'process': 0,\n",
    "                  'cargo_to_load': [],\n",
    "                  'cargo_to_unload': [],\n",
    "                  'destination': back}}\n",
    "obs, rewards, dones, infos = env.step(action)\n",
    "rewards"
   ],
   "metadata": {
    "collapsed": false,
    "pycharm": {
     "name": "#%%\n"
    }
   }
  },
  {
   "cell_type": "code",
   "execution_count": 109,
   "outputs": [
    {
     "data": {
      "text/plain": "matrix([[ 1. , -0.5, -0.5],\n        [-0.5,  1. , -0.5],\n        [-0.5, -0.5,  1. ]])"
     },
     "execution_count": 109,
     "metadata": {},
     "output_type": "execute_result"
    }
   ],
   "source": [
    "a = nx.directed_laplacian_matrix(g)\n",
    "a"
   ],
   "metadata": {
    "collapsed": false,
    "pycharm": {
     "name": "#%%\n"
    }
   }
  }
 ],
 "metadata": {
  "kernelspec": {
   "display_name": "Python 3",
   "language": "python",
   "name": "python3"
  },
  "language_info": {
   "codemirror_mode": {
    "name": "ipython",
    "version": 2
   },
   "file_extension": ".py",
   "mimetype": "text/x-python",
   "name": "python",
   "nbconvert_exporter": "python",
   "pygments_lexer": "ipython2",
   "version": "2.7.6"
  }
 },
 "nbformat": 4,
 "nbformat_minor": 0
}